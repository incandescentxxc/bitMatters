{
 "metadata": {
  "language_info": {
   "codemirror_mode": {
    "name": "ipython",
    "version": 3
   },
   "file_extension": ".py",
   "mimetype": "text/x-python",
   "name": "python",
   "nbconvert_exporter": "python",
   "pygments_lexer": "ipython3",
   "version": "3.6.9-final"
  },
  "orig_nbformat": 2,
  "kernelspec": {
   "name": "python36964bit5b6a0e0c45894dcb9dca31368a3d5571",
   "display_name": "Python 3.6.9 64-bit"
  }
 },
 "nbformat": 4,
 "nbformat_minor": 2,
 "cells": [
  {
   "source": [
    "This file helps \n",
    "1. converts the ffmepge records to csv\n",
    "2. do regression based on existing data"
   ],
   "cell_type": "markdown",
   "metadata": {}
  },
  {
   "cell_type": "code",
   "execution_count": 1,
   "metadata": {},
   "outputs": [
    {
     "output_type": "stream",
     "name": "stdout",
     "text": [
      "Executed!\n"
     ]
    }
   ],
   "source": [
    "import csv\n",
    "\n",
    "# converts ff_records.txt into csv\n",
    "fp = open(\"ff_records.txt\", \"r\")\n",
    "fp_csv = open(\"ff_records.csv\", \"a\")\n",
    "csv_write = csv.writer(fp_csv)\n",
    "csv_write.writerow([\"BER\", \"IBER\", \"NIBER\", \"PSNR\", \"SSIM\"])\n",
    "index = 0\n",
    "row = []\n",
    "for line in fp.readlines():\n",
    "    index += 1\n",
    "    if(index % 11 == 1): # bit error rate\n",
    "        ber = float(line.split(\" \")[-1])\n",
    "        row.append(ber)\n",
    "    elif(index % 11 == 2):\n",
    "        Iber = float(line.split(\" \")[-1])\n",
    "        row.append(Iber)\n",
    "    elif(index % 11 == 3):\n",
    "        NIber = float(line.split(\" \")[-1])\n",
    "        row.append(NIber)\n",
    "    elif(index % 11 == 9):\n",
    "        psnr = float(line.split(\" \")[-1])\n",
    "        row.append(psnr)\n",
    "    elif(index % 11 == 10):\n",
    "        ssim = float(line.split(\" \")[-1])        \n",
    "        row.append(ssim)\n",
    "        csv_write.writerow(row)\n",
    "    elif (index % 11 == 0):\n",
    "        row = []\n",
    "fp.close()\n",
    "fp_csv.close()\n",
    "print(\"Executed!\")"
   ]
  },
  {
   "cell_type": "code",
   "execution_count": 52,
   "metadata": {},
   "outputs": [
    {
     "output_type": "stream",
     "name": "stdout",
     "text": [
      "Executed!\n"
     ]
    }
   ],
   "source": [
    "# combine and average the data row with the same IBER and NIBER\n",
    "fp_csv = open(\"ff_records.csv\", \"r\")\n",
    "fp_ext = open(\"ff_records_final.csv\", \"a\")\n",
    "csv_read = csv.reader(fp_csv)\n",
    "csv_write = csv.writer(fp_ext)\n",
    "csv_write.writerow([\"IBER\", \"NIBER\", \"PSNR\", \"SSIM\"])\n",
    "firstline = 1\n",
    "size = 0\n",
    "group = 100\n",
    "dic = {}\n",
    "for row in csv_read:\n",
    "    if firstline:\n",
    "        firstline = 0\n",
    "        continue\n",
    "    size += 1\n",
    "    if(size % group == 1 and size != 1):\n",
    "        for it_key, it_value in dic.items():\n",
    "            iber = float(it_key.split(\"|\")[0])\n",
    "            niber = float(it_key.split(\"|\")[1])\n",
    "            length = len(it_value)\n",
    "            count = 0\n",
    "            psnr_avg = 0\n",
    "            ssim_avg = 0\n",
    "            while count < length:\n",
    "                if count % 2 == 0:\n",
    "                    psnr_avg += float(it_value[count])\n",
    "                else:\n",
    "                    ssim_avg += float(it_value[count])\n",
    "                count += 1\n",
    "            psnr_avg /= (length/2)\n",
    "            ssim_avg /= (length/2)\n",
    "            psnr_avg = round(psnr_avg, 6)\n",
    "            ssim_avg = round(ssim_avg, 6)\n",
    "            if(iber != 0 and niber !=0):\n",
    "                csv_write.writerow([iber, niber, psnr_avg, ssim_avg])\n",
    "        dic.clear()\n",
    "    key = str(row[1]) + str(\"|\") + str(row[2])\n",
    "    value = []\n",
    "    value.append(row[3])\n",
    "    value.append(row[4])\n",
    "    if key in dic:\n",
    "        dic[key] = dic[key] + value\n",
    "        # print(dic[key])\n",
    "    else:\n",
    "        dic[key] = value\n",
    "for it_key, it_value in dic.items():\n",
    "    iber = float(it_key.split(\"|\")[0])\n",
    "    niber = float(it_key.split(\"|\")[1])\n",
    "    length = len(it_value)\n",
    "    count = 0\n",
    "    psnr_avg = 0\n",
    "    ssim_avg = 0\n",
    "    while count < length:\n",
    "        if count % 2 == 0:\n",
    "            psnr_avg += float(it_value[count])\n",
    "        else:\n",
    "            ssim_avg += float(it_value[count])\n",
    "        count += 1\n",
    "    psnr_avg /= (length/2)\n",
    "    ssim_avg /= (length/2)\n",
    "    psnr_avg = round(psnr_avg, 6)\n",
    "    ssim_avg = round(ssim_avg, 6)\n",
    "    csv_write.writerow([iber, niber, psnr_avg, ssim_avg])    \n",
    "# print(dic)\n",
    "fp_csv.close()\n",
    "fp_ext.close()\n",
    "print(\"Executed!\")"
   ]
  },
  {
   "cell_type": "code",
   "execution_count": 53,
   "metadata": {},
   "outputs": [
    {
     "output_type": "error",
     "ename": "TypeError",
     "evalue": "must be real number, not str",
     "traceback": [
      "\u001b[0;31m---------------------------------------------------------------------------\u001b[0m",
      "\u001b[0;31mTypeError\u001b[0m                                 Traceback (most recent call last)",
      "\u001b[0;32m<ipython-input-53-cd6da516121b>\u001b[0m in \u001b[0;36m<module>\u001b[0;34m\u001b[0m\n\u001b[1;32m     15\u001b[0m \u001b[0mpsnr\u001b[0m \u001b[0;34m=\u001b[0m \u001b[0mstat_arr\u001b[0m\u001b[0;34m[\u001b[0m\u001b[0;34m...\u001b[0m\u001b[0;34m,\u001b[0m \u001b[0;36m2\u001b[0m\u001b[0;34m]\u001b[0m\u001b[0;34m\u001b[0m\u001b[0;34m\u001b[0m\u001b[0m\n\u001b[1;32m     16\u001b[0m \u001b[0mssim\u001b[0m \u001b[0;34m=\u001b[0m \u001b[0mstat_arr\u001b[0m\u001b[0;34m[\u001b[0m\u001b[0;34m...\u001b[0m\u001b[0;34m,\u001b[0m \u001b[0;36m3\u001b[0m\u001b[0;34m]\u001b[0m\u001b[0;34m\u001b[0m\u001b[0;34m\u001b[0m\u001b[0m\n\u001b[0;32m---> 17\u001b[0;31m \u001b[0mibr_power\u001b[0m \u001b[0;34m=\u001b[0m \u001b[0;34m[\u001b[0m\u001b[0;34m-\u001b[0m\u001b[0mmath\u001b[0m\u001b[0;34m.\u001b[0m\u001b[0mlog\u001b[0m\u001b[0;34m(\u001b[0m\u001b[0mx\u001b[0m\u001b[0;34m)\u001b[0m \u001b[0;32mfor\u001b[0m \u001b[0mx\u001b[0m \u001b[0;32min\u001b[0m \u001b[0mibr\u001b[0m\u001b[0;34m]\u001b[0m\u001b[0;34m\u001b[0m\u001b[0;34m\u001b[0m\u001b[0m\n\u001b[0m\u001b[1;32m     18\u001b[0m \u001b[0mnibr_power\u001b[0m \u001b[0;34m=\u001b[0m \u001b[0;34m[\u001b[0m\u001b[0;34m-\u001b[0m\u001b[0mmath\u001b[0m\u001b[0;34m.\u001b[0m\u001b[0mlog\u001b[0m\u001b[0;34m(\u001b[0m\u001b[0mx\u001b[0m\u001b[0;34m)\u001b[0m \u001b[0;32mfor\u001b[0m \u001b[0mx\u001b[0m \u001b[0;32min\u001b[0m \u001b[0mnibr\u001b[0m\u001b[0;34m]\u001b[0m\u001b[0;34m\u001b[0m\u001b[0;34m\u001b[0m\u001b[0m\n\u001b[1;32m     19\u001b[0m \u001b[0;34m\u001b[0m\u001b[0m\n",
      "\u001b[0;32m<ipython-input-53-cd6da516121b>\u001b[0m in \u001b[0;36m<listcomp>\u001b[0;34m(.0)\u001b[0m\n\u001b[1;32m     15\u001b[0m \u001b[0mpsnr\u001b[0m \u001b[0;34m=\u001b[0m \u001b[0mstat_arr\u001b[0m\u001b[0;34m[\u001b[0m\u001b[0;34m...\u001b[0m\u001b[0;34m,\u001b[0m \u001b[0;36m2\u001b[0m\u001b[0;34m]\u001b[0m\u001b[0;34m\u001b[0m\u001b[0;34m\u001b[0m\u001b[0m\n\u001b[1;32m     16\u001b[0m \u001b[0mssim\u001b[0m \u001b[0;34m=\u001b[0m \u001b[0mstat_arr\u001b[0m\u001b[0;34m[\u001b[0m\u001b[0;34m...\u001b[0m\u001b[0;34m,\u001b[0m \u001b[0;36m3\u001b[0m\u001b[0;34m]\u001b[0m\u001b[0;34m\u001b[0m\u001b[0;34m\u001b[0m\u001b[0m\n\u001b[0;32m---> 17\u001b[0;31m \u001b[0mibr_power\u001b[0m \u001b[0;34m=\u001b[0m \u001b[0;34m[\u001b[0m\u001b[0;34m-\u001b[0m\u001b[0mmath\u001b[0m\u001b[0;34m.\u001b[0m\u001b[0mlog\u001b[0m\u001b[0;34m(\u001b[0m\u001b[0mx\u001b[0m\u001b[0;34m)\u001b[0m \u001b[0;32mfor\u001b[0m \u001b[0mx\u001b[0m \u001b[0;32min\u001b[0m \u001b[0mibr\u001b[0m\u001b[0;34m]\u001b[0m\u001b[0;34m\u001b[0m\u001b[0;34m\u001b[0m\u001b[0m\n\u001b[0m\u001b[1;32m     18\u001b[0m \u001b[0mnibr_power\u001b[0m \u001b[0;34m=\u001b[0m \u001b[0;34m[\u001b[0m\u001b[0;34m-\u001b[0m\u001b[0mmath\u001b[0m\u001b[0;34m.\u001b[0m\u001b[0mlog\u001b[0m\u001b[0;34m(\u001b[0m\u001b[0mx\u001b[0m\u001b[0;34m)\u001b[0m \u001b[0;32mfor\u001b[0m \u001b[0mx\u001b[0m \u001b[0;32min\u001b[0m \u001b[0mnibr\u001b[0m\u001b[0;34m]\u001b[0m\u001b[0;34m\u001b[0m\u001b[0;34m\u001b[0m\u001b[0m\n\u001b[1;32m     19\u001b[0m \u001b[0;34m\u001b[0m\u001b[0m\n",
      "\u001b[0;31mTypeError\u001b[0m: must be real number, not str"
     ]
    }
   ],
   "source": [
    "# data preparations\n",
    "# TODO: uni-variant regression and visualization\n",
    "import matplotlib.pyplot as plt\n",
    "from mpl_toolkits import mplot3d\n",
    "import pandas as pd\n",
    "import numpy as np\n",
    "import math\n",
    "\n",
    "stat = pd.read_csv(\"ff_records_final.csv\")\n",
    "stat.columns = ['ibr','nibr','psnr','ssim']\n",
    "stat_arr = np.array(stat)\n",
    "ibr = stat_arr[...,0]\n",
    "nibr = stat_arr[..., 1]\n",
    "BR = stat_arr[...,0:2]\n",
    "psnr = stat_arr[..., 2]\n",
    "ssim = stat_arr[..., 3]\n",
    "ibr_power = [-math.log(x) for x in ibr]\n",
    "nibr_power = [-math.log(x) for x in nibr]\n",
    "\n",
    "label_title = \"test\"\n",
    "plt.scatter(nibr_power, psnr, label = label_title, marker=\".\")\n",
    "plt.xlabel(\"non I frame bit error rate\")\n",
    "plt.ylabel(\"psnr\")\n",
    "plt.show()\n",
    "plt.scatter(nibr_power, ssim, marker='.')\n",
    "plt.show()\n",
    "# print(BR[0])\n",
    "\n",
    "\n",
    "# creating figure\n",
    "fig = plt.figure(figsize=(10, 8))\n",
    "ax = plt.axes(projection=\"3d\")\n",
    "# creating plot\n",
    "ax.scatter3D(ibr_power, nibr_power, psnr, color = \"blue\")\n",
    "plt.title(\"ibr, nibr vs PSNR\")\n",
    "ax.set_xlabel(\"I frame BER\", fontweight=\"bold\")\n",
    "ax.set_ylabel(\"Non-I frame BER\", fontweight=\"bold\")\n",
    "ax.set_zlabel(\"PSNR\", fontweight=\"bold\")\n",
    "plt.show()\n",
    "\n",
    "# creating figure\n",
    "fig = plt.figure(figsize=(10, 8))\n",
    "ax = plt.axes(projection=\"3d\")\n",
    "ax.scatter3D(ibr_power, nibr_power, ssim, color = \"blue\")\n",
    "plt.title(\"ibr, nibr vs SSIM\")\n",
    "ax.set_xlabel(\"I frame BER\", fontweight=\"bold\")\n",
    "ax.set_ylabel(\"Non-I frame BER\", fontweight=\"bold\")\n",
    "ax.set_zlabel(\"SSIM\", fontweight=\"bold\")\n",
    "plt.show()"
   ]
  },
  {
   "cell_type": "code",
   "execution_count": 40,
   "metadata": {},
   "outputs": [
    {
     "output_type": "stream",
     "name": "stdout",
     "text": [
      "PSNR--------------------\nR2 score is: 0.5541757187161979\ncoefficient of determination: [ -78.72186649 -270.26217388]\ninterception is: 27.394937754994622\nSSIM--------------------\nR2 score is: 0.8048127308802567\ncoefficient of determination: [-1.00970441 -5.32656744]\ninterception is: 0.9377970482995304\n"
     ]
    }
   ],
   "source": [
    "# multi-variant Linear regression\n",
    "# TODO a 3-d visualization\n",
    "from sklearn.linear_model import LinearRegression\n",
    "model = LinearRegression()\n",
    "model.fit(BR, psnr)\n",
    "r2_score = model.score(BR, psnr)\n",
    "print(\"PSNR--------------------\")\n",
    "print(\"R2 score is:\", r2_score)\n",
    "print('coefficient of determination:', model.coef_)\n",
    "print(\"interception is:\", model.intercept_)\n",
    "print(\"SSIM--------------------\")\n",
    "model.fit(BR, ssim)\n",
    "r2_score = model.score(BR, ssim)\n",
    "print(\"R2 score is:\", r2_score)\n",
    "print('coefficient of determination:', model.coef_)\n",
    "print(\"interception is:\", model.intercept_)\n"
   ]
  },
  {
   "cell_type": "code",
   "execution_count": 31,
   "metadata": {},
   "outputs": [
    {
     "output_type": "error",
     "ename": "ValueError",
     "evalue": "too many values to unpack (expected 2)",
     "traceback": [
      "\u001b[0;31m---------------------------------------------------------------------------\u001b[0m",
      "\u001b[0;31mValueError\u001b[0m                                Traceback (most recent call last)",
      "\u001b[0;32m<ipython-input-31-756c5e503f55>\u001b[0m in \u001b[0;36m<module>\u001b[0;34m\u001b[0m\n\u001b[1;32m      3\u001b[0m \u001b[0;32mfrom\u001b[0m \u001b[0msklearn\u001b[0m\u001b[0;34m.\u001b[0m\u001b[0mpipeline\u001b[0m \u001b[0;32mimport\u001b[0m \u001b[0mPipeline\u001b[0m\u001b[0;34m\u001b[0m\u001b[0;34m\u001b[0m\u001b[0m\n\u001b[1;32m      4\u001b[0m \u001b[0mInput\u001b[0m \u001b[0;34m=\u001b[0m \u001b[0;34m[\u001b[0m\u001b[0;34m(\u001b[0m\u001b[0;34m'polynomial'\u001b[0m\u001b[0;34m,\u001b[0m \u001b[0mPolynomialFeatures\u001b[0m\u001b[0;34m(\u001b[0m\u001b[0mdegree\u001b[0m\u001b[0;34m=\u001b[0m\u001b[0;36m2\u001b[0m\u001b[0;34m)\u001b[0m\u001b[0;34m,\u001b[0m\u001b[0;34m(\u001b[0m\u001b[0;34m'modal'\u001b[0m\u001b[0;34m,\u001b[0m \u001b[0mLinearRegression\u001b[0m\u001b[0;34m(\u001b[0m\u001b[0;34m)\u001b[0m\u001b[0;34m)\u001b[0m\u001b[0;34m)\u001b[0m\u001b[0;34m]\u001b[0m\u001b[0;34m\u001b[0m\u001b[0;34m\u001b[0m\u001b[0m\n\u001b[0;32m----> 5\u001b[0;31m \u001b[0mpipe\u001b[0m \u001b[0;34m=\u001b[0m \u001b[0mPipeline\u001b[0m\u001b[0;34m(\u001b[0m\u001b[0mInput\u001b[0m\u001b[0;34m)\u001b[0m\u001b[0;34m\u001b[0m\u001b[0;34m\u001b[0m\u001b[0m\n\u001b[0m\u001b[1;32m      6\u001b[0m \u001b[0mpipe\u001b[0m\u001b[0;34m.\u001b[0m\u001b[0mfit\u001b[0m\u001b[0;34m(\u001b[0m\u001b[0mBR\u001b[0m\u001b[0;34m,\u001b[0m \u001b[0mpsnr\u001b[0m\u001b[0;34m)\u001b[0m\u001b[0;34m\u001b[0m\u001b[0;34m\u001b[0m\u001b[0m\n",
      "\u001b[0;32m~/.local/lib/python3.6/site-packages/sklearn/utils/validation.py\u001b[0m in \u001b[0;36minner_f\u001b[0;34m(*args, **kwargs)\u001b[0m\n\u001b[1;32m     70\u001b[0m                           FutureWarning)\n\u001b[1;32m     71\u001b[0m         \u001b[0mkwargs\u001b[0m\u001b[0;34m.\u001b[0m\u001b[0mupdate\u001b[0m\u001b[0;34m(\u001b[0m\u001b[0;34m{\u001b[0m\u001b[0mk\u001b[0m\u001b[0;34m:\u001b[0m \u001b[0marg\u001b[0m \u001b[0;32mfor\u001b[0m \u001b[0mk\u001b[0m\u001b[0;34m,\u001b[0m \u001b[0marg\u001b[0m \u001b[0;32min\u001b[0m \u001b[0mzip\u001b[0m\u001b[0;34m(\u001b[0m\u001b[0msig\u001b[0m\u001b[0;34m.\u001b[0m\u001b[0mparameters\u001b[0m\u001b[0;34m,\u001b[0m \u001b[0margs\u001b[0m\u001b[0;34m)\u001b[0m\u001b[0;34m}\u001b[0m\u001b[0;34m)\u001b[0m\u001b[0;34m\u001b[0m\u001b[0;34m\u001b[0m\u001b[0m\n\u001b[0;32m---> 72\u001b[0;31m         \u001b[0;32mreturn\u001b[0m \u001b[0mf\u001b[0m\u001b[0;34m(\u001b[0m\u001b[0;34m**\u001b[0m\u001b[0mkwargs\u001b[0m\u001b[0;34m)\u001b[0m\u001b[0;34m\u001b[0m\u001b[0;34m\u001b[0m\u001b[0m\n\u001b[0m\u001b[1;32m     73\u001b[0m     \u001b[0;32mreturn\u001b[0m \u001b[0minner_f\u001b[0m\u001b[0;34m\u001b[0m\u001b[0;34m\u001b[0m\u001b[0m\n\u001b[1;32m     74\u001b[0m \u001b[0;34m\u001b[0m\u001b[0m\n",
      "\u001b[0;32m~/.local/lib/python3.6/site-packages/sklearn/pipeline.py\u001b[0m in \u001b[0;36m__init__\u001b[0;34m(self, steps, memory, verbose)\u001b[0m\n\u001b[1;32m    112\u001b[0m         \u001b[0mself\u001b[0m\u001b[0;34m.\u001b[0m\u001b[0mmemory\u001b[0m \u001b[0;34m=\u001b[0m \u001b[0mmemory\u001b[0m\u001b[0;34m\u001b[0m\u001b[0;34m\u001b[0m\u001b[0m\n\u001b[1;32m    113\u001b[0m         \u001b[0mself\u001b[0m\u001b[0;34m.\u001b[0m\u001b[0mverbose\u001b[0m \u001b[0;34m=\u001b[0m \u001b[0mverbose\u001b[0m\u001b[0;34m\u001b[0m\u001b[0;34m\u001b[0m\u001b[0m\n\u001b[0;32m--> 114\u001b[0;31m         \u001b[0mself\u001b[0m\u001b[0;34m.\u001b[0m\u001b[0m_validate_steps\u001b[0m\u001b[0;34m(\u001b[0m\u001b[0;34m)\u001b[0m\u001b[0;34m\u001b[0m\u001b[0;34m\u001b[0m\u001b[0m\n\u001b[0m\u001b[1;32m    115\u001b[0m \u001b[0;34m\u001b[0m\u001b[0m\n\u001b[1;32m    116\u001b[0m     \u001b[0;32mdef\u001b[0m \u001b[0mget_params\u001b[0m\u001b[0;34m(\u001b[0m\u001b[0mself\u001b[0m\u001b[0;34m,\u001b[0m \u001b[0mdeep\u001b[0m\u001b[0;34m=\u001b[0m\u001b[0;32mTrue\u001b[0m\u001b[0;34m)\u001b[0m\u001b[0;34m:\u001b[0m\u001b[0;34m\u001b[0m\u001b[0;34m\u001b[0m\u001b[0m\n",
      "\u001b[0;32m~/.local/lib/python3.6/site-packages/sklearn/pipeline.py\u001b[0m in \u001b[0;36m_validate_steps\u001b[0;34m(self)\u001b[0m\n\u001b[1;32m    143\u001b[0m \u001b[0;34m\u001b[0m\u001b[0m\n\u001b[1;32m    144\u001b[0m     \u001b[0;32mdef\u001b[0m \u001b[0m_validate_steps\u001b[0m\u001b[0;34m(\u001b[0m\u001b[0mself\u001b[0m\u001b[0;34m)\u001b[0m\u001b[0;34m:\u001b[0m\u001b[0;34m\u001b[0m\u001b[0;34m\u001b[0m\u001b[0m\n\u001b[0;32m--> 145\u001b[0;31m         \u001b[0mnames\u001b[0m\u001b[0;34m,\u001b[0m \u001b[0mestimators\u001b[0m \u001b[0;34m=\u001b[0m \u001b[0mzip\u001b[0m\u001b[0;34m(\u001b[0m\u001b[0;34m*\u001b[0m\u001b[0mself\u001b[0m\u001b[0;34m.\u001b[0m\u001b[0msteps\u001b[0m\u001b[0;34m)\u001b[0m\u001b[0;34m\u001b[0m\u001b[0;34m\u001b[0m\u001b[0m\n\u001b[0m\u001b[1;32m    146\u001b[0m \u001b[0;34m\u001b[0m\u001b[0m\n\u001b[1;32m    147\u001b[0m         \u001b[0;31m# validate names\u001b[0m\u001b[0;34m\u001b[0m\u001b[0;34m\u001b[0m\u001b[0;34m\u001b[0m\u001b[0m\n",
      "\u001b[0;31mValueError\u001b[0m: too many values to unpack (expected 2)"
     ]
    }
   ],
   "source": [
    "#TODO multi-variant polynomial regression\n",
    "from sklearn.preprocessing import PolynomialFeatures\n",
    "from sklearn.pipeline import Pipeline\n",
    "Input = [('polynomial', PolynomialFeatures(degree=2),('modal', LinearRegression()))]\n",
    "pipe = Pipeline(Input)\n"
   ]
  },
  {
   "cell_type": "code",
   "execution_count": null,
   "metadata": {},
   "outputs": [],
   "source": []
  }
 ]
}